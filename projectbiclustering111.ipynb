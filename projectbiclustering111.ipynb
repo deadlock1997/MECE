{
 "cells": [
  {
   "cell_type": "code",
   "execution_count": null,
   "metadata": {},
   "outputs": [],
   "source": []
  },
  {
   "cell_type": "code",
   "execution_count": 1,
   "metadata": {},
   "outputs": [],
   "source": [
    "import numpy as np\n",
    "import pandas as pd\n",
    "import matplotlib.pyplot as plt\n",
    "%matplotlib inline"
   ]
  },
  {
   "cell_type": "code",
   "execution_count": 2,
   "metadata": {},
   "outputs": [
    {
     "name": "stdout",
     "output_type": "stream",
     "text": [
      "<class 'pandas.core.frame.DataFrame'>\n",
      "RangeIndex: 1567 entries, 0 to 1566\n",
      "Columns: 589 entries, 1 to 589\n",
      "dtypes: float64(589)\n",
      "memory usage: 7.0 MB\n"
     ]
    }
   ],
   "source": [
    "dataset=pd.read_csv(\"C:/Users/Administrator/Downloads/uci-secom.csv\")\n",
    "dataset=dataset.loc[:,'1':'589']\n",
    "dataset.info()\n",
    "sum1=dataset.sum(axis=0)"
   ]
  },
  {
   "cell_type": "code",
   "execution_count": 3,
   "metadata": {},
   "outputs": [],
   "source": [
    "lis=[]\n",
    "for i in range(0,589):\n",
    "    if(sum1[i]==0):\n",
    "        lis.append(str(i+1))"
   ]
  },
  {
   "cell_type": "code",
   "execution_count": 4,
   "metadata": {},
   "outputs": [
    {
     "name": "stdout",
     "output_type": "stream",
     "text": [
      "['13', '52', '97', '141', '149', '178', '179', '186', '189', '190', '191', '192', '193', '194', '226', '229', '230', '231', '232', '233', '234', '235', '236', '237', '240', '241', '242', '243', '256', '257', '258', '259', '260', '261', '262', '263', '264', '265', '266', '276', '284', '313', '314', '315', '322', '325', '326', '327', '328', '329', '330', '364', '369', '370', '371', '372', '373', '374', '375', '378', '379', '380', '381', '394', '395', '396', '397', '398', '399', '400', '401', '402', '403', '404', '414', '422', '449', '450', '451', '458', '461', '462', '463', '464', '465', '466', '481', '498', '501', '502', '503', '504', '505', '506', '507', '508', '509', '512', '513', '514', '515', '528', '529', '530', '531', '532', '533', '534', '535', '536', '537', '538']\n"
     ]
    }
   ],
   "source": [
    "print(lis)"
   ]
  },
  {
   "cell_type": "code",
   "execution_count": 5,
   "metadata": {},
   "outputs": [
    {
     "name": "stdout",
     "output_type": "stream",
     "text": [
      "<class 'pandas.core.frame.DataFrame'>\n",
      "RangeIndex: 1567 entries, 0 to 1566\n",
      "Columns: 589 entries, 1 to 589\n",
      "dtypes: float64(589)\n",
      "memory usage: 7.0 MB\n"
     ]
    }
   ],
   "source": [
    "dataset.info()"
   ]
  },
  {
   "cell_type": "code",
   "execution_count": 6,
   "metadata": {},
   "outputs": [],
   "source": [
    "dataset.drop(lis, 1, inplace=True)"
   ]
  },
  {
   "cell_type": "code",
   "execution_count": 7,
   "metadata": {},
   "outputs": [
    {
     "name": "stdout",
     "output_type": "stream",
     "text": [
      "<class 'pandas.core.frame.DataFrame'>\n",
      "RangeIndex: 1567 entries, 0 to 1566\n",
      "Columns: 477 entries, 1 to 589\n",
      "dtypes: float64(477)\n",
      "memory usage: 5.7 MB\n"
     ]
    }
   ],
   "source": [
    "dataset.info()"
   ]
  },
  {
   "cell_type": "code",
   "execution_count": 8,
   "metadata": {},
   "outputs": [],
   "source": [
    "dataset=dataset.fillna(dataset.mean())\n",
    "dataset.to_csv('preprocessed123.csv')"
   ]
  },
  {
   "cell_type": "code",
   "execution_count": 9,
   "metadata": {},
   "outputs": [],
   "source": [
    "data=pd.read_csv(\"C:/Users/Administrator/Downloads/uci-secom.csv\")"
   ]
  },
  {
   "cell_type": "code",
   "execution_count": 10,
   "metadata": {},
   "outputs": [],
   "source": [
    "data=data['Pass/Fail']\n",
    "dataset = np.float32(dataset)"
   ]
  },
  {
   "cell_type": "code",
   "execution_count": 11,
   "metadata": {},
   "outputs": [],
   "source": [
    "data=pd.read_csv(\"C:/Users/Administrator/Downloads/uci-secom.csv\")\n",
    "data1=pd.read_csv(\"C:/Users/Administrator/Downloads/tranformed.csv\")\n",
    "data2=pd.read_csv(\"C:/Users/Administrator/Downloads/preprocessed123.csv\")\n",
    "data=data['Pass/Fail']"
   ]
  },
  {
   "cell_type": "code",
   "execution_count": 12,
   "metadata": {},
   "outputs": [],
   "source": [
    "from sklearn.cluster import KMeans\n",
    "from sklearn.metrics import pairwise_distances_argmin_min\n",
    "m=100\n",
    "kmeans = KMeans(n_clusters=m)  \n",
    "kmeans.fit(data1) \n",
    "closest, _ = pairwise_distances_argmin_min(kmeans.cluster_centers_, data1)\n",
    "closest=sorted(closest)\n",
    "cls1=[]\n",
    "for i in closest:\n",
    "    cls1.append(str(i))\n",
    "cls1.append('Pass/Fail')\n"
   ]
  },
  {
   "cell_type": "code",
   "execution_count": 13,
   "metadata": {},
   "outputs": [],
   "source": [
    "m=400\n",
    "kmeans = KMeans(n_clusters=m)  \n",
    "kmeans.fit(data2) \n",
    "closest1, _ = pairwise_distances_argmin_min(kmeans.cluster_centers_, data2)\n",
    "closest1=sorted(closest1)\n",
    "cls2=[]\n",
    "for i in closest1:\n",
    "    cls2.append(i)"
   ]
  },
  {
   "cell_type": "code",
   "execution_count": null,
   "metadata": {},
   "outputs": [],
   "source": []
  },
  {
   "cell_type": "code",
   "execution_count": null,
   "metadata": {},
   "outputs": [],
   "source": []
  },
  {
   "cell_type": "code",
   "execution_count": 14,
   "metadata": {},
   "outputs": [
    {
     "name": "stderr",
     "output_type": "stream",
     "text": [
      "C:\\ProgramData\\Anaconda3\\lib\\site-packages\\pandas\\core\\indexing.py:1472: FutureWarning: \n",
      "Passing list-likes to .loc or [] with any missing label will raise\n",
      "KeyError in the future, you can use .reindex() as an alternative.\n",
      "\n",
      "See the documentation here:\n",
      "https://pandas.pydata.org/pandas-docs/stable/indexing.html#deprecate-loc-reindex-listlike\n",
      "  return self._getitem_tuple(key)\n"
     ]
    }
   ],
   "source": [
    "datas=pd.read_csv(\"C:/Users/Administrator/Downloads/preprocessed1231.csv\")\n",
    "datas.shape\n",
    "datas=datas.loc[:,cls1]\n",
    "datas=datas.loc[cls2,:]\n",
    "datar=datas['Pass/Fail']\n",
    "datas=datas.iloc[:,0:-1]\n",
    "datas=datas.fillna(0)\n",
    "datas=np.float32(datas)\n",
    "datas=pd.DataFrame(datas)\n"
   ]
  },
  {
   "cell_type": "code",
   "execution_count": null,
   "metadata": {},
   "outputs": [],
   "source": []
  },
  {
   "cell_type": "code",
   "execution_count": null,
   "metadata": {},
   "outputs": [],
   "source": []
  },
  {
   "cell_type": "code",
   "execution_count": null,
   "metadata": {},
   "outputs": [],
   "source": []
  },
  {
   "cell_type": "code",
   "execution_count": 38,
   "metadata": {},
   "outputs": [],
   "source": [
    "fata=datas"
   ]
  },
  {
   "cell_type": "code",
   "execution_count": 39,
   "metadata": {},
   "outputs": [],
   "source": [
    "fatar=datar"
   ]
  },
  {
   "cell_type": "code",
   "execution_count": 40,
   "metadata": {},
   "outputs": [
    {
     "data": {
      "text/plain": [
       "(400,)"
      ]
     },
     "execution_count": 40,
     "metadata": {},
     "output_type": "execute_result"
    }
   ],
   "source": [
    "fatar.shape\n"
   ]
  },
  {
   "cell_type": "markdown",
   "metadata": {},
   "source": [
    "# Test data as y_test"
   ]
  },
  {
   "cell_type": "code",
   "execution_count": 15,
   "metadata": {},
   "outputs": [
    {
     "data": {
      "image/png": "[encoded data removed]",
      "text/plain": [
       "<Figure size 360x288 with 1 Axes>"
      ]
     },
     "metadata": {
      "needs_background": "light"
     },
     "output_type": "display_data"
    },
    {
     "name": "stdout",
     "output_type": "stream",
     "text": [
      "              precision    recall  f1-score   support\n",
      "\n",
      "          -1    0.93590   0.98649   0.96053        74\n",
      "           1    0.50000   0.16667   0.25000         6\n",
      "\n",
      "   micro avg    0.92500   0.92500   0.92500        80\n",
      "   macro avg    0.71795   0.57658   0.60526        80\n",
      "weighted avg    0.90321   0.92500   0.90724        80\n",
      "\n",
      "PPV= 0.5 \n",
      " NPV= 0.9358974358974359 \n",
      " sensitivity= 0.16666666666666666 \n",
      " specificity= 0.9864864864864865 \n",
      " Accuracy= 0.925\n"
     ]
    }
   ],
   "source": [
    "from sklearn.model_selection import train_test_split\n",
    "x_train,x_test,y_train,y_test = train_test_split(datas,datar,test_size=0.2,random_state=0)\n",
    "x_train.shape,x_test.shape,y_train.shape,y_test.shape\n",
    "from sklearn.neighbors import KNeighborsClassifier\n",
    "model_knn=KNeighborsClassifier(n_neighbors=3)\n",
    "model_knn.fit(x_train,y_train)\n",
    "y_predict_knn=model_knn.predict(x_test)\n",
    "from sklearn.metrics import confusion_matrix,classification_report\n",
    "import seaborn as sns\n",
    "cm_knn=confusion_matrix(y_test,y_predict_knn)\n",
    "plt.figure(figsize=(5,4))\n",
    "sns.heatmap(cm_knn,annot=True,cmap='summer',cbar=False)\n",
    "plt.title('knn')\n",
    "plt.show()\n",
    "cr_rt=classification_report(y_test,y_predict_knn,digits=5)\n",
    "print(cr_rt)\n",
    "\n",
    "tn,fp,fn,tp =confusion_matrix(y_test,y_predict_knn).ravel()\n",
    "print('PPV=',tp/(tp+fp),'\\n','NPV=',tn/(tn+fn),'\\n','sensitivity=',tp/(tp+fn),'\\n','specificity=',tn/(tn+fp),'\\n','Accuracy=',(tp+tn)/(tp+tn+fp+fn))"
   ]
  },
  {
   "cell_type": "markdown",
   "metadata": {},
   "source": [
    "# train data as test data"
   ]
  },
  {
   "cell_type": "code",
   "execution_count": 16,
   "metadata": {},
   "outputs": [
    {
     "data": {
      "image/png": "[encoded data removed]",
      "text/plain": [
       "<Figure size 360x288 with 1 Axes>"
      ]
     },
     "metadata": {
      "needs_background": "light"
     },
     "output_type": "display_data"
    },
    {
     "name": "stdout",
     "output_type": "stream",
     "text": [
      "              precision    recall  f1-score   support\n",
      "\n",
      "          -1    0.94551   0.98993   0.96721       298\n",
      "           1    0.62500   0.22727   0.33333        22\n",
      "\n",
      "   micro avg    0.93750   0.93750   0.93750       320\n",
      "   macro avg    0.78526   0.60860   0.65027       320\n",
      "weighted avg    0.92348   0.93750   0.92363       320\n",
      "\n",
      "PPV= 0.625 \n",
      " NPV= 0.9455128205128205 \n",
      " sensitivity= 0.22727272727272727 \n",
      " specificity= 0.9899328859060402 \n",
      " Accuracy= 0.9375\n"
     ]
    }
   ],
   "source": [
    "y_predict_knn=model_knn.predict(x_train)\n",
    "from sklearn.metrics import confusion_matrix,classification_report\n",
    "import seaborn as sns\n",
    "cm_knn=confusion_matrix(y_train,y_predict_knn)\n",
    "plt.figure(figsize=(5,4))\n",
    "sns.heatmap(cm_knn,annot=True,cmap='summer',cbar=False)\n",
    "plt.title('knn')\n",
    "plt.show()\n",
    "cr_rt=classification_report(y_train,y_predict_knn,digits=5)\n",
    "print(cr_rt)\n",
    "\n",
    "tn,fp,fn,tp =confusion_matrix(y_train,y_predict_knn).ravel()\n",
    "print('PPV=',tp/(tp+fp),'\\n','NPV=',tn/(tn+fn),'\\n','sensitivity=',tp/(tp+fn),'\\n','specificity=',tn/(tn+fp),'\\n','Accuracy=',(tp+tn)/(tp+tn+fp+fn))"
   ]
  },
  {
   "cell_type": "code",
   "execution_count": 17,
   "metadata": {},
   "outputs": [
    {
     "data": {
      "text/plain": [
       "(400, 100)"
      ]
     },
     "execution_count": 17,
     "metadata": {},
     "output_type": "execute_result"
    }
   ],
   "source": [
    "datas.shape"
   ]
  },
  {
   "cell_type": "markdown",
   "metadata": {},
   "source": [
    "# Total data as test data"
   ]
  },
  {
   "cell_type": "code",
   "execution_count": 18,
   "metadata": {},
   "outputs": [
    {
     "data": {
      "image/png": "[encoded data removed]",
      "text/plain": [
       "<Figure size 360x288 with 1 Axes>"
      ]
     },
     "metadata": {
      "needs_background": "light"
     },
     "output_type": "display_data"
    },
    {
     "name": "stdout",
     "output_type": "stream",
     "text": [
      "              precision    recall  f1-score   support\n",
      "\n",
      "          -1    0.94359   0.98925   0.96588       372\n",
      "           1    0.60000   0.21429   0.31579        28\n",
      "\n",
      "   micro avg    0.93500   0.93500   0.93500       400\n",
      "   macro avg    0.77179   0.60177   0.64083       400\n",
      "weighted avg    0.91954   0.93500   0.92037       400\n",
      "\n",
      "PPV= 0.6 \n",
      " NPV= 0.9435897435897436 \n",
      " sensitivity= 0.21428571428571427 \n",
      " specificity= 0.989247311827957 \n",
      " Accuracy= 0.935\n"
     ]
    }
   ],
   "source": [
    "y_predict_knn=model_knn.predict(datas)\n",
    "from sklearn.metrics import confusion_matrix,classification_report\n",
    "import seaborn as sns\n",
    "cm_knn=confusion_matrix(datar,y_predict_knn)\n",
    "plt.figure(figsize=(5,4))\n",
    "sns.heatmap(cm_knn,annot=True,cmap='summer',cbar=False)\n",
    "plt.title('knn')\n",
    "plt.show()\n",
    "cr_rt=classification_report(datar,y_predict_knn,digits=5)\n",
    "print(cr_rt)\n",
    "\n",
    "tn,fp,fn,tp =confusion_matrix(datar,y_predict_knn).ravel()\n",
    "print('PPV=',tp/(tp+fp),'\\n','NPV=',tn/(tn+fn),'\\n','sensitivity=',tp/(tp+fn),'\\n','specificity=',tn/(tn+fp),'\\n','Accuracy=',(tp+tn)/(tp+tn+fp+fn))"
   ]
  },
  {
   "cell_type": "markdown",
   "metadata": {},
   "source": [
    "# Select rows only in the data set"
   ]
  },
  {
   "cell_type": "code",
   "execution_count": 19,
   "metadata": {},
   "outputs": [
    {
     "name": "stdout",
     "output_type": "stream",
     "text": [
      "<class 'pandas.core.frame.DataFrame'>\n",
      "RangeIndex: 400 entries, 0 to 399\n",
      "Columns: 477 entries, 0 to 476\n",
      "dtypes: float32(477)\n",
      "memory usage: 745.4 KB\n"
     ]
    },
    {
     "data": {
      "image/png": "[encoded data removed]",
      "text/plain": [
       "<Figure size 360x288 with 1 Axes>"
      ]
     },
     "metadata": {
      "needs_background": "light"
     },
     "output_type": "display_data"
    },
    {
     "name": "stdout",
     "output_type": "stream",
     "text": [
      "              precision    recall  f1-score   support\n",
      "\n",
      "          -1    0.93421   0.95946   0.94667        74\n",
      "           1    0.25000   0.16667   0.20000         6\n",
      "\n",
      "   micro avg    0.90000   0.90000   0.90000        80\n",
      "   macro avg    0.59211   0.56306   0.57333        80\n",
      "weighted avg    0.88289   0.90000   0.89067        80\n",
      "\n",
      "PPV= 0.25 \n",
      " NPV= 0.9342105263157895 \n",
      " sensitivity= 0.16666666666666666 \n",
      " specificity= 0.9594594594594594 \n",
      " Accuracy= 0.9\n"
     ]
    }
   ],
   "source": [
    "datas=pd.read_csv(\"C:/Users/Administrator/Downloads/preprocessed123.csv\")\n",
    "datas=datas.loc[cls2,:]\n",
    "data=pd.read_csv(\"C:/Users/Administrator/Downloads/uci-secom.csv\")\n",
    "data=data.loc[cls2,:]\n",
    "datar=data['Pass/Fail']\n",
    "datas=datas.iloc[:,0:-1]\n",
    "datas=datas.fillna(0)\n",
    "datas=np.float32(datas)\n",
    "datas=pd.DataFrame(datas)\n",
    "datas.info()#from sklearn.model_selection import train_test_split\n",
    "x_train,x_test,y_train,y_test = train_test_split(datas,datar,test_size=0.2,random_state=0)\n",
    "x_train.shape,x_test.shape,y_train.shape,y_test.shape\n",
    "from sklearn.neighbors import KNeighborsClassifier\n",
    "model_knn=KNeighborsClassifier(n_neighbors=3)\n",
    "model_knn.fit(x_train,y_train)\n",
    "y_predict_knn=model_knn.predict(x_test)\n",
    "from sklearn.metrics import confusion_matrix,classification_report\n",
    "import seaborn as sns\n",
    "cm_knn=confusion_matrix(y_test,y_predict_knn)\n",
    "plt.figure(figsize=(5,4))\n",
    "sns.heatmap(cm_knn,annot=True,cmap='summer',cbar=False)\n",
    "plt.title('knn')\n",
    "plt.show()\n",
    "cr_rt=classification_report(y_test,y_predict_knn,digits=5)\n",
    "print(cr_rt)\n",
    "\n",
    "tn,fp,fn,tp =confusion_matrix(y_test,y_predict_knn).ravel()\n",
    "print('PPV=',tp/(tp+fp),'\\n','NPV=',tn/(tn+fn),'\\n','sensitivity=',tp/(tp+fn),'\\n','specificity=',tn/(tn+fp),'\\n','Accuracy=',(tp+tn)/(tp+tn+fp+fn))"
   ]
  },
  {
   "cell_type": "code",
   "execution_count": null,
   "metadata": {},
   "outputs": [],
   "source": []
  },
  {
   "cell_type": "code",
   "execution_count": null,
   "metadata": {},
   "outputs": [],
   "source": []
  },
  {
   "cell_type": "code",
   "execution_count": null,
   "metadata": {},
   "outputs": [],
   "source": []
  },
  {
   "cell_type": "code",
   "execution_count": null,
   "metadata": {},
   "outputs": [],
   "source": []
  },
  {
   "cell_type": "code",
   "execution_count": null,
   "metadata": {},
   "outputs": [],
   "source": []
  },
  {
   "cell_type": "code",
   "execution_count": 20,
   "metadata": {},
   "outputs": [],
   "source": [
    "pata=pd.read_csv(\"C:/Users/Administrator/Downloads/uci-secom.csv\")\n",
    "patar=pata['Pass/Fail']"
   ]
  },
  {
   "cell_type": "code",
   "execution_count": 21,
   "metadata": {},
   "outputs": [],
   "source": [
    "pata=pata.iloc[0:400,1:101]\n",
    "patar=patar.iloc[0:400,]"
   ]
  },
  {
   "cell_type": "code",
   "execution_count": 22,
   "metadata": {},
   "outputs": [],
   "source": [
    "\n",
    "pata=pata.fillna(dataset.mean())"
   ]
  },
  {
   "cell_type": "code",
   "execution_count": 23,
   "metadata": {},
   "outputs": [],
   "source": [
    "pata = np.float32(pata)"
   ]
  },
  {
   "cell_type": "code",
   "execution_count": null,
   "metadata": {
    "scrolled": true
   },
   "outputs": [],
   "source": []
  },
  {
   "cell_type": "code",
   "execution_count": 26,
   "metadata": {},
   "outputs": [
    {
     "name": "stdout",
     "output_type": "stream",
     "text": [
      "Accuracy= 0.8461538461538461\n",
      "Accuracy= 0.7894736842105263\n",
      "Accuracy= 0.7567567567567568\n",
      "Accuracy= 0.8333333333333334\n",
      "Accuracy= 0.8571428571428571\n",
      "Accuracy= 0.8970588235294118\n",
      "Accuracy= 0.8333333333333334\n",
      "Accuracy= 0.8125\n",
      "Accuracy= 0.7903225806451613\n",
      "Accuracy= 0.8333333333333334\n",
      "Accuracy= 0.7931034482758621\n",
      "Accuracy= 0.875\n",
      "Accuracy= 0.9259259259259259\n",
      "Accuracy= 0.7884615384615384\n",
      "Accuracy= 0.78\n",
      "Accuracy= 0.7291666666666666\n",
      "Accuracy= 0.8695652173913043\n",
      "Accuracy= 0.8636363636363636\n",
      "Accuracy= 0.8571428571428571\n",
      "Accuracy= 0.8\n",
      "Accuracy= 0.7631578947368421\n",
      "Accuracy= 0.6666666666666666\n",
      "Accuracy= 0.6176470588235294\n",
      "Accuracy= 0.65625\n",
      "Accuracy= 0.6333333333333333\n",
      "Accuracy= 0.75\n",
      "Accuracy= 0.8076923076923077\n",
      "Accuracy= 0.7916666666666666\n",
      "Accuracy= 0.7727272727272727\n",
      "Accuracy= 0.7\n",
      "Accuracy= 0.7777777777777778\n",
      "Accuracy= 0.6875\n",
      "Accuracy= 0.9285714285714286\n",
      "Accuracy= 0.75\n",
      "Accuracy= 0.8\n"
     ]
    },
    {
     "ename": "ValueError",
     "evalue": "not enough values to unpack (expected 4, got 1)",
     "output_type": "error",
     "traceback": [
      "\u001b[1;31m---------------------------------------------------------------------------\u001b[0m",
      "\u001b[1;31mValueError\u001b[0m                                Traceback (most recent call last)",
      "\u001b[1;32m<ipython-input-26-7ee96bb8065e>\u001b[0m in \u001b[0;36m<module>\u001b[1;34m\u001b[0m\n\u001b[0;32m     18\u001b[0m     \u001b[0my_pred\u001b[0m\u001b[1;33m=\u001b[0m\u001b[0msvclassifier\u001b[0m\u001b[1;33m.\u001b[0m\u001b[0mpredict\u001b[0m\u001b[1;33m(\u001b[0m\u001b[0mx_test\u001b[0m\u001b[1;33m)\u001b[0m\u001b[1;33m\u001b[0m\u001b[0m\n\u001b[0;32m     19\u001b[0m     \u001b[1;32mfrom\u001b[0m \u001b[0msklearn\u001b[0m\u001b[1;33m.\u001b[0m\u001b[0mmetrics\u001b[0m \u001b[1;32mimport\u001b[0m \u001b[0mclassification_report\u001b[0m\u001b[1;33m,\u001b[0m\u001b[0mconfusion_matrix\u001b[0m\u001b[1;33m\u001b[0m\u001b[0m\n\u001b[1;32m---> 20\u001b[1;33m     \u001b[0mtn\u001b[0m\u001b[1;33m,\u001b[0m\u001b[0mfp\u001b[0m\u001b[1;33m,\u001b[0m\u001b[0mfn\u001b[0m\u001b[1;33m,\u001b[0m\u001b[0mtp\u001b[0m \u001b[1;33m=\u001b[0m\u001b[0mconfusion_matrix\u001b[0m\u001b[1;33m(\u001b[0m\u001b[0my_test\u001b[0m\u001b[1;33m,\u001b[0m\u001b[0my_pred\u001b[0m\u001b[1;33m)\u001b[0m\u001b[1;33m.\u001b[0m\u001b[0mravel\u001b[0m\u001b[1;33m(\u001b[0m\u001b[1;33m)\u001b[0m\u001b[1;33m\u001b[0m\u001b[0m\n\u001b[0m\u001b[0;32m     21\u001b[0m     \u001b[0mprint\u001b[0m\u001b[1;33m(\u001b[0m\u001b[1;34m'Accuracy='\u001b[0m\u001b[1;33m,\u001b[0m\u001b[1;33m(\u001b[0m\u001b[0mtp\u001b[0m\u001b[1;33m+\u001b[0m\u001b[0mtn\u001b[0m\u001b[1;33m)\u001b[0m\u001b[1;33m/\u001b[0m\u001b[1;33m(\u001b[0m\u001b[0mtp\u001b[0m\u001b[1;33m+\u001b[0m\u001b[0mtn\u001b[0m\u001b[1;33m+\u001b[0m\u001b[0mfp\u001b[0m\u001b[1;33m+\u001b[0m\u001b[0mfn\u001b[0m\u001b[1;33m)\u001b[0m\u001b[1;33m)\u001b[0m\u001b[1;33m\u001b[0m\u001b[0m\n\u001b[0;32m     22\u001b[0m     \u001b[0mlis1\u001b[0m\u001b[1;33m.\u001b[0m\u001b[0mappend\u001b[0m\u001b[1;33m(\u001b[0m\u001b[1;33m(\u001b[0m\u001b[0mtp\u001b[0m\u001b[1;33m+\u001b[0m\u001b[0mtn\u001b[0m\u001b[1;33m)\u001b[0m\u001b[1;33m/\u001b[0m\u001b[1;33m(\u001b[0m\u001b[0mtp\u001b[0m\u001b[1;33m+\u001b[0m\u001b[0mtn\u001b[0m\u001b[1;33m+\u001b[0m\u001b[0mfp\u001b[0m\u001b[1;33m+\u001b[0m\u001b[0mfn\u001b[0m\u001b[1;33m)\u001b[0m\u001b[1;33m)\u001b[0m\u001b[1;33m\u001b[0m\u001b[0m\n",
      "\u001b[1;31mValueError\u001b[0m: not enough values to unpack (expected 4, got 1)"
     ]
    }
   ],
   "source": [
    "lis=[]\n",
    "lis1=[]\n",
    "for i in range(0,400,10):\n",
    "    for j in range(i,i+10):\n",
    "        lis.append(j)                \n",
    "    pata=pd.read_csv(\"C:/Users/Administrator/Downloads/uci-secom.csv\")\n",
    "    patar=pata['Pass/Fail']\n",
    "    pata=pata.iloc[0:400,1:101]\n",
    "    patar=patar.iloc[0:400,]\n",
    "    pata=pata.fillna(dataset.mean())\n",
    "    pata.drop(lis, 0, inplace=True)\n",
    "    patar.drop(lis, 0, inplace=True)\n",
    "    from sklearn.model_selection import train_test_split\n",
    "    x_train,x_test,y_train,y_test = train_test_split(pata,patar,test_size=0.2,random_state=0)\n",
    "    from sklearn.svm import SVC\n",
    "    svclassifier = SVC(kernel='linear')\n",
    "    svclassifier.fit(x_train,y_train)\n",
    "    y_pred=svclassifier.predict(x_test)\n",
    "    from sklearn.metrics import classification_report,confusion_matrix\n",
    "    tn,fp,fn,tp =confusion_matrix(y_test,y_pred).ravel()\n",
    "    print('Accuracy=',(tp+tn)/(tp+tn+fp+fn))\n",
    "    lis1.append((tp+tn)/(tp+tn+fp+fn))"
   ]
  },
  {
   "cell_type": "code",
   "execution_count": 36,
   "metadata": {},
   "outputs": [],
   "source": [
    "import random   "
   ]
  },
  {
   "cell_type": "code",
   "execution_count": 37,
   "metadata": {},
   "outputs": [],
   "source": [
    "pata=pd.read_csv(\"C:/Users/Administrator/Downloads/uci-secom.csv\")\n",
    "patar=pata['Pass/Fail']\n",
    "pata=pata.iloc[0:400,1:101]\n",
    "patar=patar.iloc[0:400,]"
   ]
  },
  {
   "cell_type": "code",
   "execution_count": 38,
   "metadata": {},
   "outputs": [],
   "source": [
    "itr=1\n",
    "newdata=[[0]*100]*400\n",
    "newdata=pd.DataFrame(newdata)\n",
    "while(itr<10):\n",
    "    for i in range(0,399):\n",
    "        x=[]\n",
    "        x.append(int(random.uniform(1,399)))\n",
    "        x.append(int(random.uniform(1,399)))\n",
    "        x.append(int(random.uniform(1,399)))\n",
    "        for j in range(0,99):\n",
    "            ran=random.random()\n",
    "            if (ran<0.5):\n",
    "                newdata.iloc[i][j]=pata.iloc[i][j]\n",
    "               \n",
    "            else:\n",
    "                newdata.iloc[i][j]=pata.iloc[x[0]][j]+ran*(pata.iloc[x[1]][j]-pata.iloc[x[2]][j])\n",
    "                     \n",
    "    itr=itr+1\n",
    "    "
   ]
  },
  {
   "cell_type": "code",
   "execution_count": null,
   "metadata": {},
   "outputs": [],
   "source": [
    "newdata"
   ]
  },
  {
   "cell_type": "code",
   "execution_count": null,
   "metadata": {},
   "outputs": [
    {
     "name": "stdout",
     "output_type": "stream",
     "text": [
      "Accuracy= 0.782051282051282\n",
      "Accuracy= 0.8421052631578947\n",
      "Accuracy= 0.7432432432432432\n",
      "Accuracy= 0.8194444444444444\n",
      "Accuracy= 0.8714285714285714\n",
      "Accuracy= 0.8382352941176471\n",
      "Accuracy= 0.7878787878787878\n"
     ]
    }
   ],
   "source": [
    "lis=[]\n",
    "lis1=[]\n",
    "for i in range(0,400,10):\n",
    "    for j in range(i,i+10):\n",
    "        lis.append(j)                \n",
    "    pata=pd.read_csv(\"C:/Users/Administrator/Downloads/uci-secom.csv\")\n",
    "    patar=pata['Pass/Fail']\n",
    "    pata=newdata\n",
    "    patar=patar.iloc[0:400,]\n",
    "    pata=pata.fillna(dataset.mean())\n",
    "    pata.drop(lis, 0, inplace=True)\n",
    "    patar.drop(lis, 0, inplace=True)\n",
    "    from sklearn.model_selection import train_test_split\n",
    "    x_train,x_test,y_train,y_test = train_test_split(pata,patar,test_size=0.2,random_state=0)\n",
    "    from sklearn.svm import SVC\n",
    "    svclassifier = SVC(kernel='linear')\n",
    "    svclassifier.fit(x_train,y_train)\n",
    "    y_pred=svclassifier.predict(x_test)\n",
    "    from sklearn.metrics import classification_report,confusion_matrix\n",
    "    tn,fp,fn,tp =confusion_matrix(y_test,y_pred).ravel()\n",
    "    print('Accuracy=',(tp+tn)/(tp+tn+fp+fn))\n",
    "    lis1.append((tp+tn)/(tp+tn+fp+fn))"
   ]
  },
  {
   "cell_type": "code",
   "execution_count": null,
   "metadata": {},
   "outputs": [],
   "source": []
  },
  {
   "cell_type": "code",
   "execution_count": null,
   "metadata": {},
   "outputs": [],
   "source": []
  },
  {
   "cell_type": "code",
   "execution_count": null,
   "metadata": {},
   "outputs": [],
   "source": []
  }
 ],
 "metadata": {
  "kernelspec": {
   "display_name": "Python 3",
   "language": "python",
   "name": "python3"
  },
  "language_info": {
   "codemirror_mode": {
    "name": "ipython",
    "version": 3
   },
   "file_extension": ".py",
   "mimetype": "text/x-python",
   "name": "python",
   "nbconvert_exporter": "python",
   "pygments_lexer": "ipython3",
   "version": "3.6.0"
  }
 },
 "nbformat": 4,
 "nbformat_minor": 2
}
